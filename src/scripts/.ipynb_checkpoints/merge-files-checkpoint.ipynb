{
 "cells": [
  {
   "cell_type": "markdown",
   "id": "a719b882-7dda-4741-b651-7f53d030dbae",
   "metadata": {},
   "source": [
    "# Script - Unir varios archivos de Excel en uno"
   ]
  },
  {
   "cell_type": "code",
   "execution_count": 5,
   "id": "f4a32ffb-152e-447f-9435-547d0029eefa",
   "metadata": {},
   "outputs": [],
   "source": [
    "import pandas as pd\n",
    "import os"
   ]
  },
  {
   "cell_type": "code",
   "execution_count": 4,
   "id": "3697a84b-5aee-40e9-8c27-ede5b1ada0d9",
   "metadata": {},
   "outputs": [],
   "source": [
    "# Definir el directorio donde están los archivos Excel\n",
    "dir = '../data/raw/generacion'  \n",
    "\n",
    "# Crear una lista para almacenar los DataFrames\n",
    "dfs = []\n",
    "\n",
    "\n",
    "# Iterar sobre los archivos en la carpeta\n",
    "for archivo in os.listdir(dir):\n",
    "    if archivo.endswith('.xlsx') or archivo.endswith('.xls'):\n",
    "        # Leer el archivo Excel y agregarlo a la lista\n",
    "        df = pd.read_excel(os.path.join(dir, archivo))\n",
    "        dfs.append(df)\n",
    "\n",
    "# Concatenar todos los DataFrames en uno solo\n",
    "df_combinado = pd.concat(dfs, ignore_index=True)\n",
    "\n",
    "# Guardar el DataFrame combinado en un nuevo archivo Excel\n",
    "df_combinado.to_excel('archivo_combinado.xlsx', index=False)"
   ]
  }
 ],
 "metadata": {
  "kernelspec": {
   "display_name": "Python 3 (ipykernel)",
   "language": "python",
   "name": "python3"
  },
  "language_info": {
   "codemirror_mode": {
    "name": "ipython",
    "version": 3
   },
   "file_extension": ".py",
   "mimetype": "text/x-python",
   "name": "python",
   "nbconvert_exporter": "python",
   "pygments_lexer": "ipython3",
   "version": "3.12.4"
  }
 },
 "nbformat": 4,
 "nbformat_minor": 5
}
