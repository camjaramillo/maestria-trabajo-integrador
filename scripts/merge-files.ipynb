{
 "cells": [
  {
   "cell_type": "markdown",
   "id": "a719b882-7dda-4741-b651-7f53d030dbae",
   "metadata": {},
   "source": [
    "# Script - Merge multiple Excel files into one"
   ]
  },
  {
   "cell_type": "code",
   "execution_count": 1,
   "id": "f4a32ffb-152e-447f-9435-547d0029eefa",
   "metadata": {},
   "outputs": [],
   "source": [
    "import pandas as pd\n",
    "import os"
   ]
  },
  {
   "cell_type": "code",
   "execution_count": 6,
   "id": "3697a84b-5aee-40e9-8c27-ede5b1ada0d9",
   "metadata": {},
   "outputs": [],
   "source": [
    "# Source files directory\n",
    "dir = '../data/raw/exogenous/combustible_precio/nc'\n",
    "\n",
    "# Create a list to store the dataframes\n",
    "dfs = []\n",
    "\n",
    "# Iter by each file in the direct\n",
    "for file in os.listdir(dir):\n",
    "    if file.endswith('.xlsx') or file.endswith('.xls'):\n",
    "        # Read Excel file and add it to the list (dfs)\n",
    "        df = pd.read_excel(os.path.join(dir, file))\n",
    "        dfs.append(df)\n",
    "\n",
    "# Concatenate all dataframes into one\n",
    "df_merged = pd.concat(dfs, ignore_index=True)\n",
    "\n",
    "# Save the merged dataframe to a new Excel file \n",
    "df_merged.to_excel('../data/in/merged_files.xlsx', index=False)"
   ]
  }
 ],
 "metadata": {
  "kernelspec": {
   "display_name": ".venv",
   "language": "python",
   "name": "python3"
  },
  "language_info": {
   "codemirror_mode": {
    "name": "ipython",
    "version": 3
   },
   "file_extension": ".py",
   "mimetype": "text/x-python",
   "name": "python",
   "nbconvert_exporter": "python",
   "pygments_lexer": "ipython3",
   "version": "3.13.3"
  }
 },
 "nbformat": 4,
 "nbformat_minor": 5
}
